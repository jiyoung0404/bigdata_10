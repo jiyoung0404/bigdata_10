{
 "cells": [
  {
   "cell_type": "markdown",
   "metadata": {},
   "source": [
    "# Data Acquisition\n",
    "---\n",
    "\n",
    "## Scraping and Parsing\n",
    "---\n",
    "\n",
    "* 대상 : Naver news (우선 한 개만으로 테스트)"
   ]
  },
  {
   "cell_type": "code",
   "execution_count": 1,
   "metadata": {},
   "outputs": [],
   "source": [
    "import requests\n",
    "from bs4 import BeautifulSoup as bs"
   ]
  },
  {
   "cell_type": "code",
   "execution_count": 2,
   "metadata": {},
   "outputs": [],
   "source": [
    "# url = \"https://news.naver.com/main/read.nhn?mode=LS2D&mid=shm&sid1=105&sid2=230&oid=001&aid=0010256962\"\n",
    "url = \"https://news.naver.com/main/read.nhn?mode=LS2D&mid=shm&sid1=105&sid2=230&oid=421&aid=0003523911\"\n",
    "headers = {\"user-agent\":\"Mozilla/5.0 (Windows NT 10.0; Win64; x64) AppleWebKit/537.36 (KHTML, like Gecko) Chrome/67.0.3396.99 Safari/537.36\"}"
   ]
  },
  {
   "cell_type": "code",
   "execution_count": 3,
   "metadata": {},
   "outputs": [],
   "source": [
    "resp = requests.get(url, headers=headers)\n",
    "html = bs(resp.text, \"lxml\")"
   ]
  },
  {
   "cell_type": "markdown",
   "metadata": {},
   "source": [
    "### Data\n",
    "---"
   ]
  },
  {
   "cell_type": "code",
   "execution_count": 4,
   "metadata": {},
   "outputs": [
    {
     "data": {
      "text/plain": [
       "'2018-08-07 18:59'"
      ]
     },
     "execution_count": 4,
     "metadata": {},
     "output_type": "execute_result"
    }
   ],
   "source": [
    "date = html.select(\".article_info .sponsor .t11\")\n",
    "date = date[0].text\n",
    "\n",
    "date"
   ]
  },
  {
   "cell_type": "code",
   "execution_count": 5,
   "metadata": {},
   "outputs": [
    {
     "data": {
      "text/plain": [
       "('2018', '08', '07')"
      ]
     },
     "execution_count": 5,
     "metadata": {},
     "output_type": "execute_result"
    }
   ],
   "source": [
    "temp = date.split()\n",
    "year, month, day = temp[0].split(sep='-')\n",
    "\n",
    "year, month, day"
   ]
  },
  {
   "cell_type": "code",
   "execution_count": 6,
   "metadata": {},
   "outputs": [
    {
     "data": {
      "text/plain": [
       "('18', '59')"
      ]
     },
     "execution_count": 6,
     "metadata": {},
     "output_type": "execute_result"
    }
   ],
   "source": [
    "hour, minute = temp[1].split(sep=':')\n",
    "\n",
    "hour, minute"
   ]
  },
  {
   "cell_type": "markdown",
   "metadata": {},
   "source": [
    "### Title\n",
    "---"
   ]
  },
  {
   "cell_type": "code",
   "execution_count": 7,
   "metadata": {},
   "outputs": [
    {
     "data": {
      "text/plain": [
       "'과기정통부, KISTEP·연구재단·IITP와 R&R 정립 업무협약'"
      ]
     },
     "execution_count": 7,
     "metadata": {},
     "output_type": "execute_result"
    }
   ],
   "source": [
    "title = html.select(\".article_info > h3\")\n",
    "title = title[0].text\n",
    "# title = title[0].get_text()\n",
    "# title = [i.get_text() for i in title]\n",
    "\n",
    "title"
   ]
  },
  {
   "cell_type": "markdown",
   "metadata": {},
   "source": [
    "### Sub-title\n",
    "---\n",
    "\n",
    "* 부제목 달린 기사 예시 좀 주세요..."
   ]
  },
  {
   "cell_type": "code",
   "execution_count": 25,
   "metadata": {},
   "outputs": [],
   "source": [
    "subtitle = ''"
   ]
  },
  {
   "cell_type": "markdown",
   "metadata": {},
   "source": [
    "### Contents\n",
    "---"
   ]
  },
  {
   "cell_type": "code",
   "execution_count": 8,
   "metadata": {
    "scrolled": false
   },
   "outputs": [
    {
     "name": "stdout",
     "output_type": "stream",
     "text": [
      "\n",
      "\n",
      "\n",
      "\n",
      "\n",
      "// flash 오류를 우회하기 위한 함수 추가\n",
      "function _flash_removeCallback() {}\n",
      "\n",
      "유영민 과학기술정보통신부 장관 2018.7.19/뉴스1 © News1 오장환 기자(서울=뉴스1) 최소망 기자 = 과학기술정보통신부가 연구개발(R&D) 혁신지원 기관 3곳과 함께 '역할과 책임(R&R)' 정립 방안을 마련하고 이를 이행하기 위한 업무협약을 체결했다고 7일 밝혔다.이날 과기정통부가 업무협약을 맺은 기관은 한국과학기술기획평가원(KISTEP)·한국연구재단(NRF)·정보통신기술진흥센터(IITP)다.KISTEP의 핵심임무는 '과학기술 기획·평가 전문성 및 정책지원 강화, 미래이슈·규제 등 선제 발굴을 통해 R&D 투자 효과성 제고 및 혁신성장동력 창출에 기여'다. 이를 위해 투자 효과성을 높이기 위한 '신뢰기반 평가' 지원, R&D 예비타당성 조사의 '신뢰기반 평가' 지원, R&D 혁신방안 이행을 위한 '과학기술 혁신정책' 지원 등을 이행할 계획이다.연구재단은 '공정하고 전문적인 연구기획·평가·관리, 자율과 책임의 연구문화 조성 등을 통한 학술 및 기초·원천연구 진흥, 혁신성장 및 국민 삶의 질 제고 기여'를 핵심 임무로 확정했다. 이를 이행하고자 '연구자가 공감하는 연구관리'와 '국민을 감동하게 하는 성과창출·확산', '전문적이고 현장감 있는 R&D 정책기획 지원' 등에 힘쓴다.IITP는 'ICT R&D 기획·평가·관리의 전문화와 혁신을 통해, 4차 산업혁명을 선도하는 ICT R&D 혁신역량을 강화하고, 미래 성장동력 창출에 기여'로 정했다. '4차 산업혁명 대응 ICT R&D 핵심역량을 확보'와 창의·융합형 ICT 인재양성 등을 통한 'ICT 지속성장 역량 강화' 등을 추진한다.앞으로 기관 3곳은 국가 R&D\n"
     ]
    }
   ],
   "source": [
    "content = html.select(\".article_body > #articleBodyContents\")\n",
    "# content = html.select(\".article_body > #articleBodyContents\")\n",
    "\n",
    "content = content[0].text\n",
    "\n",
    "print(content)"
   ]
  },
  {
   "cell_type": "markdown",
   "metadata": {},
   "source": [
    "### Press\n",
    "---"
   ]
  },
  {
   "cell_type": "code",
   "execution_count": 10,
   "metadata": {},
   "outputs": [
    {
     "data": {
      "text/plain": [
       "'뉴스1'"
      ]
     },
     "execution_count": 10,
     "metadata": {},
     "output_type": "execute_result"
    }
   ],
   "source": [
    "press = html.select(\".article_header .press_logo > a > img\")\n",
    "press = press[0].get(\"title\")\n",
    "\n",
    "press"
   ]
  },
  {
   "cell_type": "markdown",
   "metadata": {},
   "source": [
    "### Section\n",
    "---"
   ]
  },
  {
   "cell_type": "code",
   "execution_count": 12,
   "metadata": {},
   "outputs": [],
   "source": [
    "section = 'IT/과학'"
   ]
  },
  {
   "cell_type": "markdown",
   "metadata": {},
   "source": [
    "### Concatenate\n",
    "---"
   ]
  },
  {
   "cell_type": "code",
   "execution_count": null,
   "metadata": {},
   "outputs": [],
   "source": [
    "import pandas as pd"
   ]
  },
  {
   "cell_type": "code",
   "execution_count": 30,
   "metadata": {},
   "outputs": [
    {
     "data": {
      "text/html": [
       "<div>\n",
       "<style scoped>\n",
       "    .dataframe tbody tr th:only-of-type {\n",
       "        vertical-align: middle;\n",
       "    }\n",
       "\n",
       "    .dataframe tbody tr th {\n",
       "        vertical-align: top;\n",
       "    }\n",
       "\n",
       "    .dataframe thead th {\n",
       "        text-align: right;\n",
       "    }\n",
       "</style>\n",
       "<table border=\"1\" class=\"dataframe\">\n",
       "  <thead>\n",
       "    <tr style=\"text-align: right;\">\n",
       "      <th></th>\n",
       "      <th>article_id</th>\n",
       "      <th>date</th>\n",
       "      <th>title</th>\n",
       "      <th>subtitle</th>\n",
       "      <th>content</th>\n",
       "      <th>press</th>\n",
       "      <th>section</th>\n",
       "      <th>url</th>\n",
       "    </tr>\n",
       "  </thead>\n",
       "  <tbody>\n",
       "    <tr>\n",
       "      <th>0</th>\n",
       "      <td>2018080718590001</td>\n",
       "      <td>2018-08-07 18:59</td>\n",
       "      <td>과기정통부, KISTEP·연구재단·IITP와 R&amp;R 정립 업무협약</td>\n",
       "      <td></td>\n",
       "      <td>\\n\\n\\n\\n\\n// flash 오류를 우회하기 위한 함수 추가\\nfunction...</td>\n",
       "      <td>뉴스1</td>\n",
       "      <td>IT/과학</td>\n",
       "      <td>https://news.naver.com/main/read.nhn?mode=LS2D...</td>\n",
       "    </tr>\n",
       "  </tbody>\n",
       "</table>\n",
       "</div>"
      ],
      "text/plain": [
       "         article_id              date                                 title  \\\n",
       "0  2018080718590001  2018-08-07 18:59  과기정통부, KISTEP·연구재단·IITP와 R&R 정립 업무협약   \n",
       "\n",
       "  subtitle                                            content press section  \\\n",
       "0           \\n\\n\\n\\n\\n// flash 오류를 우회하기 위한 함수 추가\\nfunction...   뉴스1   IT/과학   \n",
       "\n",
       "                                                 url  \n",
       "0  https://news.naver.com/main/read.nhn?mode=LS2D...  "
      ]
     },
     "execution_count": 30,
     "metadata": {},
     "output_type": "execute_result"
    }
   ],
   "source": [
    "article_id = str(year) + str(month) + str(day) + str(hour) + str(minute) + '0001'\n",
    "data = {'article_id':[article_id], 'date':[date], 'title':[title],\n",
    "        'subtitle':[subtitle], 'content':[content], 'press':[press],\n",
    "        'section':[section], 'url':[url]}\n",
    "\n",
    "df = pd.DataFrame(data)\n",
    "\n",
    "df"
   ]
  },
  {
   "cell_type": "code",
   "execution_count": null,
   "metadata": {},
   "outputs": [],
   "source": []
  }
 ],
 "metadata": {
  "kernelspec": {
   "display_name": "Python 3",
   "language": "python",
   "name": "python3"
  },
  "language_info": {
   "codemirror_mode": {
    "name": "ipython",
    "version": 3
   },
   "file_extension": ".py",
   "mimetype": "text/x-python",
   "name": "python",
   "nbconvert_exporter": "python",
   "pygments_lexer": "ipython3",
   "version": "3.6.5"
  }
 },
 "nbformat": 4,
 "nbformat_minor": 2
}
